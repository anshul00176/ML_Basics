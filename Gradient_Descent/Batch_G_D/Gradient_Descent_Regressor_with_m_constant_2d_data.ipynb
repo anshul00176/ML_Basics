{
  "cells": [
    {
      "cell_type": "code",
      "source": [
        "import pandas as pd\n",
        "import numpy as np\n",
        "import matplotlib.pyplot as plt\n",
        "from  sklearn.datasets import make_regression\n"
      ],
      "metadata": {
        "id": "wrXPdBFTPFn4"
      },
      "execution_count": 2,
      "outputs": []
    },
    {
      "cell_type": "code",
      "source": [
        "X,y=make_regression(n_samples=100,n_features=1,n_informative=1,n_targets=1,noise=20, random_state=42)"
      ],
      "metadata": {
        "id": "PnkreloAQG4U"
      },
      "execution_count": 3,
      "outputs": []
    },
    {
      "cell_type": "code",
      "source": [
        "X"
      ],
      "metadata": {
        "colab": {
          "base_uri": "https://localhost:8080/"
        },
        "id": "Iiq9EEyPEjQI",
        "outputId": "1dea235f-08cb-4779-b4b6-572ea5088ff2"
      },
      "execution_count": 19,
      "outputs": [
        {
          "output_type": "execute_result",
          "data": {
            "text/plain": [
              "array([[ 0.93128012],\n",
              "       [ 0.08704707],\n",
              "       [-1.05771093],\n",
              "       [ 0.31424733],\n",
              "       [-0.47917424],\n",
              "       [ 0.64768854],\n",
              "       [-0.46341769],\n",
              "       [ 0.54256004],\n",
              "       [ 0.61167629],\n",
              "       [ 1.0035329 ],\n",
              "       [ 0.8219025 ],\n",
              "       [ 1.53803657],\n",
              "       [ 0.73846658],\n",
              "       [-0.21967189],\n",
              "       [-0.8084936 ],\n",
              "       [ 0.09176078],\n",
              "       [-1.95967012],\n",
              "       [ 0.51326743],\n",
              "       [ 1.03099952],\n",
              "       [-2.6197451 ],\n",
              "       [ 0.49671415],\n",
              "       [ 0.09707755],\n",
              "       [-0.46572975],\n",
              "       [ 0.91540212],\n",
              "       [ 1.56464366],\n",
              "       [ 1.46564877],\n",
              "       [-0.60063869],\n",
              "       [-0.03582604],\n",
              "       [-0.60170661],\n",
              "       [-1.19620662],\n",
              "       [ 0.35711257],\n",
              "       [ 0.37569802],\n",
              "       [ 0.26105527],\n",
              "       [-0.5297602 ],\n",
              "       [-0.90802408],\n",
              "       [ 0.19686124],\n",
              "       [-0.29900735],\n",
              "       [ 0.36163603],\n",
              "       [ 0.82254491],\n",
              "       [-0.29169375],\n",
              "       [ 0.36139561],\n",
              "       [-0.676922  ],\n",
              "       [ 1.52302986],\n",
              "       [-0.51827022],\n",
              "       [-0.23415337],\n",
              "       [-0.39210815],\n",
              "       [-0.3011037 ],\n",
              "       [-0.64511975],\n",
              "       [ 0.32875111],\n",
              "       [ 0.2088636 ],\n",
              "       [-0.32766215],\n",
              "       [ 0.00511346],\n",
              "       [-0.23413696],\n",
              "       [ 1.47789404],\n",
              "       [-0.38508228],\n",
              "       [ 0.34361829],\n",
              "       [ 0.33126343],\n",
              "       [-0.18565898],\n",
              "       [-0.23458713],\n",
              "       [-1.98756891],\n",
              "       [ 0.32408397],\n",
              "       [-0.2257763 ],\n",
              "       [-1.10633497],\n",
              "       [-0.70205309],\n",
              "       [-1.46351495],\n",
              "       [ 0.96864499],\n",
              "       [-1.72491783],\n",
              "       [-1.91328024],\n",
              "       [-0.56228753],\n",
              "       [ 0.76743473],\n",
              "       [ 0.81252582],\n",
              "       [-1.4123037 ],\n",
              "       [-1.47852199],\n",
              "       [-1.22084365],\n",
              "       [-0.83921752],\n",
              "       [ 1.57921282],\n",
              "       [ 0.97554513],\n",
              "       [ 0.24196227],\n",
              "       [ 0.29612028],\n",
              "       [-0.54438272],\n",
              "       [-1.76304016],\n",
              "       [ 0.11092259],\n",
              "       [ 0.17136828],\n",
              "       [-1.32818605],\n",
              "       [ 1.05712223],\n",
              "       [-0.11564828],\n",
              "       [-0.46947439],\n",
              "       [-0.01349722],\n",
              "       [-1.01283112],\n",
              "       [-0.1382643 ],\n",
              "       [-1.15099358],\n",
              "       [ 1.35624003],\n",
              "       [ 0.0675282 ],\n",
              "       [-0.50175704],\n",
              "       [-0.46063877],\n",
              "       [ 1.85227818],\n",
              "       [-1.42474819],\n",
              "       [-0.71984421],\n",
              "       [-0.07201012],\n",
              "       [-0.30921238]])"
            ]
          },
          "metadata": {},
          "execution_count": 19
        }
      ]
    },
    {
      "cell_type": "code",
      "source": [
        "plt.scatter(X,y)"
      ],
      "metadata": {
        "colab": {
          "base_uri": "https://localhost:8080/",
          "height": 447
        },
        "id": "n-jPlJzDQbT3",
        "outputId": "6646a76e-cda5-41e3-82c0-d49bf61adaec"
      },
      "execution_count": 4,
      "outputs": [
        {
          "output_type": "execute_result",
          "data": {
            "text/plain": [
              "<matplotlib.collections.PathCollection at 0x7d6f94e22110>"
            ]
          },
          "metadata": {},
          "execution_count": 4
        },
        {
          "output_type": "display_data",
          "data": {
            "text/plain": [
              "<Figure size 640x480 with 1 Axes>"
            ],
            "image/png": "[encoded data removed]"
          },
          "metadata": {}
        }
      ]
    },
    {
      "cell_type": "code",
      "source": [
        "from sklearn.linear_model import LinearRegression"
      ],
      "metadata": {
        "id": "IS8PbH-NPdEQ"
      },
      "execution_count": 5,
      "outputs": []
    },
    {
      "cell_type": "code",
      "source": [
        "lr=LinearRegression()"
      ],
      "metadata": {
        "id": "cgqaGX_UPvyM"
      },
      "execution_count": 6,
      "outputs": []
    },
    {
      "cell_type": "code",
      "source": [
        "lr.fit(X,y)"
      ],
      "metadata": {
        "colab": {
          "base_uri": "https://localhost:8080/",
          "height": 80
        },
        "id": "pDbwpdVVPw8d",
        "outputId": "113aa11a-3292-4438-bfe5-4124298f1992"
      },
      "execution_count": 7,
      "outputs": [
        {
          "output_type": "execute_result",
          "data": {
            "text/plain": [
              "LinearRegression()"
            ],
            "text/html": [
              "<style>#sk-container-id-1 {\n",
              "  /* Definition of color scheme common for light and dark mode */\n",
              "  --sklearn-color-text: #000;\n",
              "  --sklearn-color-text-muted: #666;\n",
              "  --sklearn-color-line: gray;\n",
              "  /* Definition of color scheme for unfitted estimators */\n",
              "  --sklearn-color-unfitted-level-0: #fff5e6;\n",
              "  --sklearn-color-unfitted-level-1: #f6e4d2;\n",
              "  --sklearn-color-unfitted-level-2: #ffe0b3;\n",
              "  --sklearn-color-unfitted-level-3: chocolate;\n",
              "  /* Definition of color scheme for fitted estimators */\n",
              "  --sklearn-color-fitted-level-0: #f0f8ff;\n",
              "  --sklearn-color-fitted-level-1: #d4ebff;\n",
              "  --sklearn-color-fitted-level-2: #b3dbfd;\n",
              "  --sklearn-color-fitted-level-3: cornflowerblue;\n",
              "\n",
              "  /* Specific color for light theme */\n",
              "  --sklearn-color-text-on-default-background: var(--sg-text-color, var(--theme-code-foreground, var(--jp-content-font-color1, black)));\n",
              "  --sklearn-color-background: var(--sg-background-color, var(--theme-background, var(--jp-layout-color0, white)));\n",
              "  --sklearn-color-border-box: var(--sg-text-color, var(--theme-code-foreground, var(--jp-content-font-color1, black)));\n",
              "  --sklearn-color-icon: #696969;\n",
              "\n",
              "  @media (prefers-color-scheme: dark) {\n",
              "    /* Redefinition of color scheme for dark theme */\n",
              "    --sklearn-color-text-on-default-background: var(--sg-text-color, var(--theme-code-foreground, var(--jp-content-font-color1, white)));\n",
              "    --sklearn-color-background: var(--sg-background-color, var(--theme-background, var(--jp-layout-color0, #111)));\n",
              "    --sklearn-color-border-box: var(--sg-text-color, var(--theme-code-foreground, var(--jp-content-font-color1, white)));\n",
              "    --sklearn-color-icon: #878787;\n",
              "  }\n",
              "}\n",
              "\n",
              "#sk-container-id-1 {\n",
              "  color: var(--sklearn-color-text);\n",
              "}\n",
              "\n",
              "#sk-container-id-1 pre {\n",
              "  padding: 0;\n",
              "}\n",
              "\n",
              "#sk-container-id-1 input.sk-hidden--visually {\n",
              "  border: 0;\n",
              "  clip: rect(1px 1px 1px 1px);\n",
              "  clip: rect(1px, 1px, 1px, 1px);\n",
              "  height: 1px;\n",
              "  margin: -1px;\n",
              "  overflow: hidden;\n",
              "  padding: 0;\n",
              "  position: absolute;\n",
              "  width: 1px;\n",
              "}\n",
              "\n",
              "#sk-container-id-1 div.sk-dashed-wrapped {\n",
              "  border: 1px dashed var(--sklearn-color-line);\n",
              "  margin: 0 0.4em 0.5em 0.4em;\n",
              "  box-sizing: border-box;\n",
              "  padding-bottom: 0.4em;\n",
              "  background-color: var(--sklearn-color-background);\n",
              "}\n",
              "\n",
              "#sk-container-id-1 div.sk-container {\n",
              "  /* jupyter's `normalize.less` sets `[hidden] { display: none; }`\n",
              "     but bootstrap.min.css set `[hidden] { display: none !important; }`\n",
              "     so we also need the `!important` here to be able to override the\n",
              "     default hidden behavior on the sphinx rendered scikit-learn.org.\n",
              "     See: https://github.com/scikit-learn/scikit-learn/issues/21755 */\n",
              "  display: inline-block !important;\n",
              "  position: relative;\n",
              "}\n",
              "\n",
              "#sk-container-id-1 div.sk-text-repr-fallback {\n",
              "  display: none;\n",
              "}\n",
              "\n",
              "div.sk-parallel-item,\n",
              "div.sk-serial,\n",
              "div.sk-item {\n",
              "  /* draw centered vertical line to link estimators */\n",
              "  background-image: linear-gradient(var(--sklearn-color-text-on-default-background), var(--sklearn-color-text-on-default-background));\n",
              "  background-size: 2px 100%;\n",
              "  background-repeat: no-repeat;\n",
              "  background-position: center center;\n",
              "}\n",
              "\n",
              "/* Parallel-specific style estimator block */\n",
              "\n",
              "#sk-container-id-1 div.sk-parallel-item::after {\n",
              "  content: \"\";\n",
              "  width: 100%;\n",
              "  border-bottom: 2px solid var(--sklearn-color-text-on-default-background);\n",
              "  flex-grow: 1;\n",
              "}\n",
              "\n",
              "#sk-container-id-1 div.sk-parallel {\n",
              "  display: flex;\n",
              "  align-items: stretch;\n",
              "  justify-content: center;\n",
              "  background-color: var(--sklearn-color-background);\n",
              "  position: relative;\n",
              "}\n",
              "\n",
              "#sk-container-id-1 div.sk-parallel-item {\n",
              "  display: flex;\n",
              "  flex-direction: column;\n",
              "}\n",
              "\n",
              "#sk-container-id-1 div.sk-parallel-item:first-child::after {\n",
              "  align-self: flex-end;\n",
              "  width: 50%;\n",
              "}\n",
              "\n",
              "#sk-container-id-1 div.sk-parallel-item:last-child::after {\n",
              "  align-self: flex-start;\n",
              "  width: 50%;\n",
              "}\n",
              "\n",
              "#sk-container-id-1 div.sk-parallel-item:only-child::after {\n",
              "  width: 0;\n",
              "}\n",
              "\n",
              "/* Serial-specific style estimator block */\n",
              "\n",
              "#sk-container-id-1 div.sk-serial {\n",
              "  display: flex;\n",
              "  flex-direction: column;\n",
              "  align-items: center;\n",
              "  background-color: var(--sklearn-color-background);\n",
              "  padding-right: 1em;\n",
              "  padding-left: 1em;\n",
              "}\n",
              "\n",
              "\n",
              "/* Toggleable style: style used for estimator/Pipeline/ColumnTransformer box that is\n",
              "clickable and can be expanded/collapsed.\n",
              "- Pipeline and ColumnTransformer use this feature and define the default style\n",
              "- Estimators will overwrite some part of the style using the `sk-estimator` class\n",
              "*/\n",
              "\n",
              "/* Pipeline and ColumnTransformer style (default) */\n",
              "\n",
              "#sk-container-id-1 div.sk-toggleable {\n",
              "  /* Default theme specific background. It is overwritten whether we have a\n",
              "  specific estimator or a Pipeline/ColumnTransformer */\n",
              "  background-color: var(--sklearn-color-background);\n",
              "}\n",
              "\n",
              "/* Toggleable label */\n",
              "#sk-container-id-1 label.sk-toggleable__label {\n",
              "  cursor: pointer;\n",
              "  display: flex;\n",
              "  width: 100%;\n",
              "  margin-bottom: 0;\n",
              "  padding: 0.5em;\n",
              "  box-sizing: border-box;\n",
              "  text-align: center;\n",
              "  align-items: start;\n",
              "  justify-content: space-between;\n",
              "  gap: 0.5em;\n",
              "}\n",
              "\n",
              "#sk-container-id-1 label.sk-toggleable__label .caption {\n",
              "  font-size: 0.6rem;\n",
              "  font-weight: lighter;\n",
              "  color: var(--sklearn-color-text-muted);\n",
              "}\n",
              "\n",
              "#sk-container-id-1 label.sk-toggleable__label-arrow:before {\n",
              "  /* Arrow on the left of the label */\n",
              "  content: \"▸\";\n",
              "  float: left;\n",
              "  margin-right: 0.25em;\n",
              "  color: var(--sklearn-color-icon);\n",
              "}\n",
              "\n",
              "#sk-container-id-1 label.sk-toggleable__label-arrow:hover:before {\n",
              "  color: var(--sklearn-color-text);\n",
              "}\n",
              "\n",
              "/* Toggleable content - dropdown */\n",
              "\n",
              "#sk-container-id-1 div.sk-toggleable__content {\n",
              "  max-height: 0;\n",
              "  max-width: 0;\n",
              "  overflow: hidden;\n",
              "  text-align: left;\n",
              "  /* unfitted */\n",
              "  background-color: var(--sklearn-color-unfitted-level-0);\n",
              "}\n",
              "\n",
              "#sk-container-id-1 div.sk-toggleable__content.fitted {\n",
              "  /* fitted */\n",
              "  background-color: var(--sklearn-color-fitted-level-0);\n",
              "}\n",
              "\n",
              "#sk-container-id-1 div.sk-toggleable__content pre {\n",
              "  margin: 0.2em;\n",
              "  border-radius: 0.25em;\n",
              "  color: var(--sklearn-color-text);\n",
              "  /* unfitted */\n",
              "  background-color: var(--sklearn-color-unfitted-level-0);\n",
              "}\n",
              "\n",
              "#sk-container-id-1 div.sk-toggleable__content.fitted pre {\n",
              "  /* unfitted */\n",
              "  background-color: var(--sklearn-color-fitted-level-0);\n",
              "}\n",
              "\n",
              "#sk-container-id-1 input.sk-toggleable__control:checked~div.sk-toggleable__content {\n",
              "  /* Expand drop-down */\n",
              "  max-height: 200px;\n",
              "  max-width: 100%;\n",
              "  overflow: auto;\n",
              "}\n",
              "\n",
              "#sk-container-id-1 input.sk-toggleable__control:checked~label.sk-toggleable__label-arrow:before {\n",
              "  content: \"▾\";\n",
              "}\n",
              "\n",
              "/* Pipeline/ColumnTransformer-specific style */\n",
              "\n",
              "#sk-container-id-1 div.sk-label input.sk-toggleable__control:checked~label.sk-toggleable__label {\n",
              "  color: var(--sklearn-color-text);\n",
              "  background-color: var(--sklearn-color-unfitted-level-2);\n",
              "}\n",
              "\n",
              "#sk-container-id-1 div.sk-label.fitted input.sk-toggleable__control:checked~label.sk-toggleable__label {\n",
              "  background-color: var(--sklearn-color-fitted-level-2);\n",
              "}\n",
              "\n",
              "/* Estimator-specific style */\n",
              "\n",
              "/* Colorize estimator box */\n",
              "#sk-container-id-1 div.sk-estimator input.sk-toggleable__control:checked~label.sk-toggleable__label {\n",
              "  /* unfitted */\n",
              "  background-color: var(--sklearn-color-unfitted-level-2);\n",
              "}\n",
              "\n",
              "#sk-container-id-1 div.sk-estimator.fitted input.sk-toggleable__control:checked~label.sk-toggleable__label {\n",
              "  /* fitted */\n",
              "  background-color: var(--sklearn-color-fitted-level-2);\n",
              "}\n",
              "\n",
              "#sk-container-id-1 div.sk-label label.sk-toggleable__label,\n",
              "#sk-container-id-1 div.sk-label label {\n",
              "  /* The background is the default theme color */\n",
              "  color: var(--sklearn-color-text-on-default-background);\n",
              "}\n",
              "\n",
              "/* On hover, darken the color of the background */\n",
              "#sk-container-id-1 div.sk-label:hover label.sk-toggleable__label {\n",
              "  color: var(--sklearn-color-text);\n",
              "  background-color: var(--sklearn-color-unfitted-level-2);\n",
              "}\n",
              "\n",
              "/* Label box, darken color on hover, fitted */\n",
              "#sk-container-id-1 div.sk-label.fitted:hover label.sk-toggleable__label.fitted {\n",
              "  color: var(--sklearn-color-text);\n",
              "  background-color: var(--sklearn-color-fitted-level-2);\n",
              "}\n",
              "\n",
              "/* Estimator label */\n",
              "\n",
              "#sk-container-id-1 div.sk-label label {\n",
              "  font-family: monospace;\n",
              "  font-weight: bold;\n",
              "  display: inline-block;\n",
              "  line-height: 1.2em;\n",
              "}\n",
              "\n",
              "#sk-container-id-1 div.sk-label-container {\n",
              "  text-align: center;\n",
              "}\n",
              "\n",
              "/* Estimator-specific */\n",
              "#sk-container-id-1 div.sk-estimator {\n",
              "  font-family: monospace;\n",
              "  border: 1px dotted var(--sklearn-color-border-box);\n",
              "  border-radius: 0.25em;\n",
              "  box-sizing: border-box;\n",
              "  margin-bottom: 0.5em;\n",
              "  /* unfitted */\n",
              "  background-color: var(--sklearn-color-unfitted-level-0);\n",
              "}\n",
              "\n",
              "#sk-container-id-1 div.sk-estimator.fitted {\n",
              "  /* fitted */\n",
              "  background-color: var(--sklearn-color-fitted-level-0);\n",
              "}\n",
              "\n",
              "/* on hover */\n",
              "#sk-container-id-1 div.sk-estimator:hover {\n",
              "  /* unfitted */\n",
              "  background-color: var(--sklearn-color-unfitted-level-2);\n",
              "}\n",
              "\n",
              "#sk-container-id-1 div.sk-estimator.fitted:hover {\n",
              "  /* fitted */\n",
              "  background-color: var(--sklearn-color-fitted-level-2);\n",
              "}\n",
              "\n",
              "/* Specification for estimator info (e.g. \"i\" and \"?\") */\n",
              "\n",
              "/* Common style for \"i\" and \"?\" */\n",
              "\n",
              ".sk-estimator-doc-link,\n",
              "a:link.sk-estimator-doc-link,\n",
              "a:visited.sk-estimator-doc-link {\n",
              "  float: right;\n",
              "  font-size: smaller;\n",
              "  line-height: 1em;\n",
              "  font-family: monospace;\n",
              "  background-color: var(--sklearn-color-background);\n",
              "  border-radius: 1em;\n",
              "  height: 1em;\n",
              "  width: 1em;\n",
              "  text-decoration: none !important;\n",
              "  margin-left: 0.5em;\n",
              "  text-align: center;\n",
              "  /* unfitted */\n",
              "  border: var(--sklearn-color-unfitted-level-1) 1pt solid;\n",
              "  color: var(--sklearn-color-unfitted-level-1);\n",
              "}\n",
              "\n",
              ".sk-estimator-doc-link.fitted,\n",
              "a:link.sk-estimator-doc-link.fitted,\n",
              "a:visited.sk-estimator-doc-link.fitted {\n",
              "  /* fitted */\n",
              "  border: var(--sklearn-color-fitted-level-1) 1pt solid;\n",
              "  color: var(--sklearn-color-fitted-level-1);\n",
              "}\n",
              "\n",
              "/* On hover */\n",
              "div.sk-estimator:hover .sk-estimator-doc-link:hover,\n",
              ".sk-estimator-doc-link:hover,\n",
              "div.sk-label-container:hover .sk-estimator-doc-link:hover,\n",
              ".sk-estimator-doc-link:hover {\n",
              "  /* unfitted */\n",
              "  background-color: var(--sklearn-color-unfitted-level-3);\n",
              "  color: var(--sklearn-color-background);\n",
              "  text-decoration: none;\n",
              "}\n",
              "\n",
              "div.sk-estimator.fitted:hover .sk-estimator-doc-link.fitted:hover,\n",
              ".sk-estimator-doc-link.fitted:hover,\n",
              "div.sk-label-container:hover .sk-estimator-doc-link.fitted:hover,\n",
              ".sk-estimator-doc-link.fitted:hover {\n",
              "  /* fitted */\n",
              "  background-color: var(--sklearn-color-fitted-level-3);\n",
              "  color: var(--sklearn-color-background);\n",
              "  text-decoration: none;\n",
              "}\n",
              "\n",
              "/* Span, style for the box shown on hovering the info icon */\n",
              ".sk-estimator-doc-link span {\n",
              "  display: none;\n",
              "  z-index: 9999;\n",
              "  position: relative;\n",
              "  font-weight: normal;\n",
              "  right: .2ex;\n",
              "  padding: .5ex;\n",
              "  margin: .5ex;\n",
              "  width: min-content;\n",
              "  min-width: 20ex;\n",
              "  max-width: 50ex;\n",
              "  color: var(--sklearn-color-text);\n",
              "  box-shadow: 2pt 2pt 4pt #999;\n",
              "  /* unfitted */\n",
              "  background: var(--sklearn-color-unfitted-level-0);\n",
              "  border: .5pt solid var(--sklearn-color-unfitted-level-3);\n",
              "}\n",
              "\n",
              ".sk-estimator-doc-link.fitted span {\n",
              "  /* fitted */\n",
              "  background: var(--sklearn-color-fitted-level-0);\n",
              "  border: var(--sklearn-color-fitted-level-3);\n",
              "}\n",
              "\n",
              ".sk-estimator-doc-link:hover span {\n",
              "  display: block;\n",
              "}\n",
              "\n",
              "/* \"?\"-specific style due to the `<a>` HTML tag */\n",
              "\n",
              "#sk-container-id-1 a.estimator_doc_link {\n",
              "  float: right;\n",
              "  font-size: 1rem;\n",
              "  line-height: 1em;\n",
              "  font-family: monospace;\n",
              "  background-color: var(--sklearn-color-background);\n",
              "  border-radius: 1rem;\n",
              "  height: 1rem;\n",
              "  width: 1rem;\n",
              "  text-decoration: none;\n",
              "  /* unfitted */\n",
              "  color: var(--sklearn-color-unfitted-level-1);\n",
              "  border: var(--sklearn-color-unfitted-level-1) 1pt solid;\n",
              "}\n",
              "\n",
              "#sk-container-id-1 a.estimator_doc_link.fitted {\n",
              "  /* fitted */\n",
              "  border: var(--sklearn-color-fitted-level-1) 1pt solid;\n",
              "  color: var(--sklearn-color-fitted-level-1);\n",
              "}\n",
              "\n",
              "/* On hover */\n",
              "#sk-container-id-1 a.estimator_doc_link:hover {\n",
              "  /* unfitted */\n",
              "  background-color: var(--sklearn-color-unfitted-level-3);\n",
              "  color: var(--sklearn-color-background);\n",
              "  text-decoration: none;\n",
              "}\n",
              "\n",
              "#sk-container-id-1 a.estimator_doc_link.fitted:hover {\n",
              "  /* fitted */\n",
              "  background-color: var(--sklearn-color-fitted-level-3);\n",
              "}\n",
              "</style><div id=\"sk-container-id-1\" class=\"sk-top-container\"><div class=\"sk-text-repr-fallback\"><pre>LinearRegression()</pre><b>In a Jupyter environment, please rerun this cell to show the HTML representation or trust the notebook. <br />On GitHub, the HTML representation is unable to render, please try loading this page with nbviewer.org.</b></div><div class=\"sk-container\" hidden><div class=\"sk-item\"><div class=\"sk-estimator fitted sk-toggleable\"><input class=\"sk-toggleable__control sk-hidden--visually\" id=\"sk-estimator-id-1\" type=\"checkbox\" checked><label for=\"sk-estimator-id-1\" class=\"sk-toggleable__label fitted sk-toggleable__label-arrow\"><div><div>LinearRegression</div></div><div><a class=\"sk-estimator-doc-link fitted\" rel=\"noreferrer\" target=\"_blank\" href=\"https://scikit-learn.org/1.6/modules/generated/sklearn.linear_model.LinearRegression.html\">?<span>Documentation for LinearRegression</span></a><span class=\"sk-estimator-doc-link fitted\">i<span>Fitted</span></span></div></label><div class=\"sk-toggleable__content fitted\"><pre>LinearRegression()</pre></div> </div></div></div></div>"
            ]
          },
          "metadata": {},
          "execution_count": 7
        }
      ]
    },
    {
      "cell_type": "markdown",
      "source": [
        "**DL/DB IS SHOWN IN IMAGE**"
      ],
      "metadata": {
        "id": "wIYjAaFaHWhr"
      }
    },
    {
      "cell_type": "code",
      "source": [
        "lr.coef_"
      ],
      "metadata": {
        "colab": {
          "base_uri": "https://localhost:8080/"
        },
        "id": "fHjkriK4QvKM",
        "outputId": "e7306312-eaa9-4c61-fdf5-021dfd61837d"
      },
      "execution_count": 8,
      "outputs": [
        {
          "output_type": "execute_result",
          "data": {
            "text/plain": [
              "array([47.13323967])"
            ]
          },
          "metadata": {},
          "execution_count": 8
        }
      ]
    },
    {
      "cell_type": "markdown",
      "source": [
        "**DL/DB IS SHOWN BELOW**"
      ],
      "metadata": {
        "id": "1OUpYytBHi3q"
      }
    },
    {
      "cell_type": "markdown",
      "source": [
        "![image.png](data:image/png;base64,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)"
      ],
      "metadata": {
        "id": "sYVk_pNNGkVX"
      }
    },
    {
      "cell_type": "code",
      "source": [
        "lr.intercept_"
      ],
      "metadata": {
        "colab": {
          "base_uri": "https://localhost:8080/"
        },
        "id": "0LV5s8jCQ3Mu",
        "outputId": "6ea94cb1-e8cb-4f3d-8bf9-037b94dcd79c"
      },
      "execution_count": 9,
      "outputs": [
        {
          "output_type": "execute_result",
          "data": {
            "text/plain": [
              "np.float64(2.3302306410539453)"
            ]
          },
          "metadata": {},
          "execution_count": 9
        }
      ]
    },
    {
      "cell_type": "code",
      "source": [
        "#now we will make our GD class for performing GD\n",
        "#by taking m as a constant for time being\n",
        "class GDRegressor:\n",
        "    #we will take learning rate ,no of epochs, intercept, from the user only an\n",
        "    def __init__ (self,learning_rate,epochs,intercept,m):\n",
        "      self.learning_rate=learning_rate\n",
        "      self.m=m\n",
        "      self.epochs=epochs\n",
        "      self.intercept=intercept\n",
        "\n",
        "    def fit(self,X,y):\n",
        "\n",
        "      #now we try to mimimize value of b epochs no of time\n",
        "\n",
        "      for i in range(self.epochs):\n",
        "        #calculating del(l)/del(b)  and m is already taken as constant\n",
        "        loss_slope=-2*np.sum(y-self.m*X.ravel()-self.intercept)\n",
        "         #now caluclate new intercept\n",
        "        self.intercept=self.intercept-(self.learning_rate*loss_slope)\n",
        "        print(self.intercept)\n",
        "\n",
        "\n",
        "\n",
        "\n"
      ],
      "metadata": {
        "id": "5wMKFAJMRGS8"
      },
      "execution_count": 10,
      "outputs": []
    },
    {
      "cell_type": "code",
      "source": [
        "gd = GDRegressor(0.1,10,-120,47)"
      ],
      "metadata": {
        "id": "8lDKyc29Rn9g"
      },
      "execution_count": 11,
      "outputs": []
    },
    {
      "cell_type": "code",
      "source": [
        "gd.fit(X,y)\n",
        "# look at  the intercept value how it is shifting from -ve to poisitve\n",
        "# we need value near 0.91( from actual sklearn LR)\n",
        "#we are now making chagges into learning rate and do the training again\n"
      ],
      "metadata": {
        "colab": {
          "base_uri": "https://localhost:8080/"
        },
        "id": "cTPPGyWTSdSe",
        "outputId": "9b742a24-f072-45a4-9d55-5e1b46f026ee"
      },
      "execution_count": 12,
      "outputs": [
        {
          "output_type": "stream",
          "name": "stdout",
          "text": [
            "2326.327883307679\n",
            "-44153.90189953823\n",
            "838970.4639745342\n",
            "-15940392.487632846\n",
            "302867503.5929073\n",
            "-5754482521.937356\n",
            "109335167963.13766\n",
            "-2077368191253.2874\n",
            "39469995633858.79\n",
            "-749929917043270.8\n"
          ]
        }
      ]
    },
    {
      "cell_type": "code",
      "source": [
        "gd2=GDRegressor(0.01,10,-120,47)"
      ],
      "metadata": {
        "id": "iaiViARCVd0X"
      },
      "execution_count": 13,
      "outputs": []
    },
    {
      "cell_type": "code",
      "source": [
        "gd2.fit(X,y)\n",
        "# problem !! due to large learning rate"
      ],
      "metadata": {
        "colab": {
          "base_uri": "https://localhost:8080/"
        },
        "id": "W5IKUpiFWE9E",
        "outputId": "1cbcc160-c1bc-451a-cf1e-f68c3082d3db"
      },
      "execution_count": 14,
      "outputs": [
        {
          "output_type": "stream",
          "name": "stdout",
          "text": [
            "124.63278833076788\n",
            "-120.00000000000003\n",
            "124.63278833076785\n",
            "-120.00000000000003\n",
            "124.63278833076785\n",
            "-120.00000000000003\n",
            "124.63278833076785\n",
            "-120.00000000000003\n",
            "124.63278833076785\n",
            "-120.00000000000003\n"
          ]
        }
      ]
    },
    {
      "cell_type": "code",
      "source": [
        "gd3=GDRegressor(0.001,100,-120,47)"
      ],
      "metadata": {
        "id": "PTPG7fpTWOsq"
      },
      "execution_count": 15,
      "outputs": []
    },
    {
      "cell_type": "code",
      "source": [
        "gd3.fit(X,y)\n",
        "#this is okay reach to near intercept(bias) with 100 epoch"
      ],
      "metadata": {
        "colab": {
          "base_uri": "https://localhost:8080/"
        },
        "id": "GOwucqfLWVuc",
        "outputId": "df0954a3-3698-47f5-9281-36bf520dbb00"
      },
      "execution_count": 16,
      "outputs": [
        {
          "output_type": "stream",
          "name": "stdout",
          "text": [
            "-95.53672116692321\n",
            "-75.96609810046179\n",
            "-60.30959964729265\n",
            "-47.78440088475734\n",
            "-37.76424187472909\n",
            "-29.748114666706485\n",
            "-23.335212900288404\n",
            "-18.20489148715394\n",
            "-14.10063435664637\n",
            "-10.817228652240313\n",
            "-8.190504088715468\n",
            "-6.089124437895591\n",
            "-4.408020717239689\n",
            "-3.063137740714968\n",
            "-1.9872313594951911\n",
            "-1.1265062545193696\n",
            "-0.4379261705387122\n",
            "0.11293789664581377\n",
            "0.5536291503934345\n",
            "0.9061821533915311\n",
            "1.1882245557900082\n",
            "1.41385847770879\n",
            "1.5943656152438155\n",
            "1.7387713252718358\n",
            "1.8542958932942522\n",
            "1.9467155477121851\n",
            "2.0206512712465314\n",
            "2.0797998500740085\n",
            "2.12711871313599\n",
            "2.1649738035855757\n",
            "2.195257875945244\n",
            "2.2194851338329786\n",
            "2.2388669401431662\n",
            "2.254372385191316\n",
            "2.2667767412298363\n",
            "2.2767002260606524\n",
            "2.284639013925305\n",
            "2.2909900442170277\n",
            "2.2960708684504056\n",
            "2.300135527837108\n",
            "2.3033872553464696\n",
            "2.305988637353959\n",
            "2.3080697429599506\n",
            "2.309734627444744\n",
            "2.3110665350325785\n",
            "2.312132061102846\n",
            "2.3129844819590604\n",
            "2.313666418644032\n",
            "2.314211967992009\n",
            "2.314648407470391\n",
            "2.3149975590530962\n",
            "2.3152768803192605\n",
            "2.315500337332192\n",
            "2.315679102942537\n",
            "2.315822115430813\n",
            "2.315936525421434\n",
            "2.316028053413931\n",
            "2.3161012758079282\n",
            "2.3161598537231263\n",
            "2.3162067160552846\n",
            "2.316244205921011\n",
            "2.3162741978135926\n",
            "2.3162981913276575\n",
            "2.3163173861389095\n",
            "2.316332741987911\n",
            "2.3163450266671126\n",
            "2.3163548544104735\n",
            "2.316362716605162\n",
            "2.316369006360913\n",
            "2.316374038165514\n",
            "2.3163780636091946\n",
            "2.316381283964139\n",
            "2.3163838602480946\n",
            "2.316385921275259\n",
            "2.3163875700969907\n",
            "2.316388889154376\n",
            "2.3163899444002842\n",
            "2.3163907885970105\n",
            "2.3163914639543917\n",
            "2.3163920042402966\n",
            "2.3163924364690205\n",
            "2.316392782252\n",
            "2.3163930588783836\n",
            "2.3163932801794904\n",
            "2.316393457220376\n",
            "2.316393598853084\n",
            "2.316393712159251\n",
            "2.316393802804184\n",
            "2.3163938753201307\n",
            "2.316393933332888\n",
            "2.316393979743094\n",
            "2.3163940168712585\n",
            "2.3163940465737904\n",
            "2.3163940703358157\n",
            "2.316394089345436\n",
            "2.3163941045531318\n",
            "2.3163941167192887\n",
            "2.3163941264522143\n",
            "2.316394134238555\n",
            "2.316394140467627\n"
          ]
        }
      ]
    }
  ],
  "metadata": {
    "colab": {
      "provenance": []
    },
    "kernelspec": {
      "display_name": "Python 3",
      "name": "python3"
    },
    "language_info": {
      "name": "python"
    }
  },
  "nbformat": 4,
  "nbformat_minor": 0
}